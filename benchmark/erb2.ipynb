{
 "cells": [
  {
   "cell_type": "code",
   "execution_count": null,
   "metadata": {},
   "outputs": [],
   "source": [
    "import numpy as np \n",
    "import pandas as pd\n",
    "import tmap as tm\n",
    "from math import log10\n",
    "\n",
    "from rdkit import Chem\n",
    "from rdkit import DataStructs\n",
    "from rdkit.Chem import AllChem\n",
    "from rdkit.Chem import rdMolDescriptors\n",
    "from rdkit.Chem.AtomPairs import Pairs\n",
    "from mxfp import mxfp\n",
    "from map4 import MAP4Calculator\n",
    "from mhfp.encoder import MHFPEncoder\n",
    "from drfp import DrfpEncoder\n",
    "\n",
    "import matplotlib as mpl\n",
    "import matplotlib.pyplot as plt\n",
    "from matplotlib.colors import ListedColormap\n",
    "import seaborn as sns\n",
    "from faerun import Faerun\n",
    "\n",
    "from tqdm import tqdm\n",
    "tqdm.pandas()"
   ]
  },
  {
   "cell_type": "markdown",
   "metadata": {},
   "source": [
    "#### Clean dataset (kekulization, remove duplicates)"
   ]
  },
  {
   "cell_type": "code",
   "execution_count": null,
   "metadata": {},
   "outputs": [],
   "source": [
    "def SaltRemover(smiles):\n",
    "    return max(smiles.split('.'), key=len)"
   ]
  },
  {
   "cell_type": "code",
   "execution_count": null,
   "metadata": {},
   "outputs": [],
   "source": [
    "df = pd.read_csv('data/erb2.csv', sep=';')\n",
    "df = df[['Smiles', 'Molecule ChEMBL ID', 'Standard Value', 'Standard Type', 'Standard Relation', 'Standard Units']]\n",
    "df = df.dropna(subset=['Smiles', 'Standard Value', 'Standard Type', 'Standard Relation', 'Standard Units'])\n",
    "df = df[df['Standard Units'] == 'nM']\n",
    "df = df[df['Standard Type'] == 'IC50']\n",
    "df = df[df['Standard Relation'] == \"'='\"]\n",
    "df['Smiles'] = df.Smiles.apply(SaltRemover)\n",
    "df['ROMol'] = df.Smiles.apply(Chem.MolFromSmiles)\n",
    "df['Smiles'] = df.ROMol.apply(lambda x: Chem.MolToSmiles(x, kekuleSmiles=True, isomericSmiles=False))\n",
    "df = df.drop_duplicates(subset=['Smiles'])\n",
    "df"
   ]
  },
  {
   "cell_type": "markdown",
   "metadata": {},
   "source": [
    "Add molecular properties"
   ]
  },
  {
   "cell_type": "code",
   "execution_count": null,
   "metadata": {},
   "outputs": [],
   "source": [
    "df['log(IC50)'] = df['Standard Value'].apply(log10)\n",
    "df['MW'] = df.ROMol.apply(rdMolDescriptors.CalcExactMolWt)\n",
    "df['HAC'] = df.ROMol.apply(rdMolDescriptors.CalcNumHeavyAtoms)\n",
    "df['FCsp3'] = df.ROMol.apply(rdMolDescriptors.CalcFractionCSP3)\n",
    "df"
   ]
  },
  {
   "cell_type": "markdown",
   "metadata": {},
   "source": [
    "#### Select top 200 closest compounds to Afatinib"
   ]
  },
  {
   "cell_type": "markdown",
   "metadata": {},
   "source": [
    "Calculate MAP4 fingerprint for library and Afatinib"
   ]
  },
  {
   "cell_type": "code",
   "execution_count": null,
   "metadata": {},
   "outputs": [],
   "source": [
    "MAP4 = MAP4Calculator(dimensions=2048)\n",
    "\n",
    "afatinib_smiles = 'CN(C)C/C=C/C(=O)NC1=C(C=C2C(=C1)C(=NC=N2)NC3=CC(=C(C=C3)F)Cl)O[C@H]4CCOC4'\n",
    "afatinib_mol = Chem.MolFromSmiles(afatinib_smiles)\n",
    "afatinib_map4 = MAP4.calculate(afatinib_mol)\n",
    "\n",
    "df['MAP4'] = df.ROMol.progress_apply(MAP4.calculate)"
   ]
  },
  {
   "cell_type": "markdown",
   "metadata": {},
   "source": [
    "Calculate the distance between every compound and Afatinib"
   ]
  },
  {
   "cell_type": "code",
   "execution_count": null,
   "metadata": {},
   "outputs": [],
   "source": [
    "ENC = tm.Minhash(2048)\n",
    "\n",
    "df['Afatinib_dist'] = df.MAP4.apply(lambda x: ENC.get_distance(x, afatinib_map4))\n",
    "df = df.sort_values(by=['Afatinib_dist'])\n",
    "df = df.head(200)\n",
    "df.reset_index(drop=True, inplace=True)\n",
    "df"
   ]
  },
  {
   "cell_type": "markdown",
   "metadata": {},
   "source": [
    "#### TMAP visualization"
   ]
  },
  {
   "cell_type": "markdown",
   "metadata": {},
   "source": [
    "Define a function that fills a quadratic matrix of arbitrary length with empty strings"
   ]
  },
  {
   "cell_type": "code",
   "execution_count": null,
   "metadata": {},
   "outputs": [],
   "source": [
    "def EmptyStringMatrix(length):\n",
    "\n",
    "    empty_string_matrix = []\n",
    "\n",
    "    for i in range(length):\n",
    "        empty_string_list = []\n",
    "        for j in range(length):\n",
    "            empty_string_list.append('')\n",
    "        empty_string_matrix.append(empty_string_list)\n",
    "    \n",
    "    return empty_string_matrix"
   ]
  },
  {
   "cell_type": "markdown",
   "metadata": {},
   "source": [
    "Define a function that generate all possible unique pairs of SMILES displayed as reaction SMILES"
   ]
  },
  {
   "cell_type": "code",
   "execution_count": null,
   "metadata": {},
   "outputs": [],
   "source": [
    "smiles_list = df.Smiles.values.tolist()\n",
    "\n",
    "def PairwiseReactionSMILES(smiles_list):\n",
    "\n",
    "    pwrs = EmptyStringMatrix(len(smiles_list))\n",
    "\n",
    "    for i in range(len(smiles_list)):\n",
    "        for j in range(i, len(smiles_list)):\n",
    "            pwrs[i][j] = f'{smiles_list[i]}>>{smiles_list[j]}'\n",
    "            pwrs[j][i] = f'{smiles_list[i]}>>{smiles_list[j]}'\n",
    "    \n",
    "    return pwrs\n",
    "\n",
    "reaction_smiles = pd.DataFrame(PairwiseReactionSMILES(smiles_list)).to_numpy().flatten()"
   ]
  },
  {
   "cell_type": "markdown",
   "metadata": {},
   "source": [
    "Calculate molecule pair properties"
   ]
  },
  {
   "cell_type": "code",
   "execution_count": null,
   "metadata": {},
   "outputs": [],
   "source": [
    "def MeanProperty(list_of_properties):\n",
    "\n",
    "    pairwise_difference = np.zeros((len(list_of_properties), len(list_of_properties)))\n",
    "\n",
    "    for i in range(len(list_of_properties)):\n",
    "        for j in range(i, len(list_of_properties)):\n",
    "            pairwise_difference[i, j] = (list_of_properties[i] + list_of_properties[j])/2\n",
    "            pairwise_difference[j, i] = (list_of_properties[i] + list_of_properties[j])/2\n",
    "    \n",
    "    return pairwise_difference"
   ]
  },
  {
   "cell_type": "code",
   "execution_count": null,
   "metadata": {},
   "outputs": [],
   "source": [
    "def DifferenceProperty(list_of_properties):\n",
    "\n",
    "    pairwise_difference = np.zeros((len(list_of_properties), len(list_of_properties)))\n",
    "\n",
    "    for i in range(len(list_of_properties)):\n",
    "        for j in range(i, len(list_of_properties)):\n",
    "            pairwise_difference[i, j] = (abs(list_of_properties[i] - list_of_properties[j]))\n",
    "            pairwise_difference[j, i] = (abs(list_of_properties[i] - list_of_properties[j]))\n",
    "    \n",
    "    return pairwise_difference"
   ]
  },
  {
   "cell_type": "code",
   "execution_count": null,
   "metadata": {},
   "outputs": [],
   "source": [
    "pairwise_mw = pd.DataFrame(MeanProperty(df.MW.values.tolist())).to_numpy().flatten()\n",
    "pairwise_hac = pd.DataFrame(MeanProperty(df.HAC.values.tolist())).to_numpy().flatten()\n",
    "pairwise_fcsp3 = pd.DataFrame(MeanProperty(df.FCsp3.values.tolist())).to_numpy().flatten()\n",
    "diff_activity = pd.DataFrame(DifferenceProperty(df['Standard Value'].values.tolist())).to_numpy().flatten()\n",
    "diff_activity_log50 = pd.DataFrame(DifferenceProperty(df['log(IC50)'].values.tolist())).to_numpy().flatten()"
   ]
  },
  {
   "cell_type": "markdown",
   "metadata": {},
   "source": [
    "Define pairwise label"
   ]
  },
  {
   "cell_type": "code",
   "execution_count": null,
   "metadata": {},
   "outputs": [],
   "source": [
    "def PairwiseLabel(labels):\n",
    "\n",
    "    label = EmptyStringMatrix(len(labels))\n",
    "\n",
    "    for i in range(len(labels)):\n",
    "        for j in range(i, len(labels)):\n",
    "            label[i][j] = f'{labels[i]} / {labels[j]}'\n",
    "            label[j][i] = f'{labels[i]} / {labels[j]}'\n",
    "    \n",
    "    return label"
   ]
  },
  {
   "cell_type": "code",
   "execution_count": null,
   "metadata": {},
   "outputs": [],
   "source": [
    "pairwise_label = pd.DataFrame(PairwiseLabel(df['Molecule ChEMBL ID'].values.tolist())).to_numpy().flatten()\n",
    "pairwise_activity = pd.DataFrame(PairwiseLabel(df['log(IC50)'].values.tolist())).to_numpy().flatten()"
   ]
  },
  {
   "cell_type": "markdown",
   "metadata": {},
   "source": [
    "DRFP"
   ]
  },
  {
   "cell_type": "code",
   "execution_count": null,
   "metadata": {},
   "outputs": [],
   "source": [
    "drfps = DrfpEncoder.encode(reaction_smiles)"
   ]
  },
  {
   "cell_type": "code",
   "execution_count": null,
   "metadata": {},
   "outputs": [],
   "source": [
    "import warnings\n",
    "from sklearn.neighbors import NearestNeighbors\n",
    "from sklearn.exceptions import DataConversionWarning\n",
    "warnings.filterwarnings(\"ignore\", category=DataConversionWarning)\n",
    "\n",
    "knn = 20\n",
    "\n",
    "knn_search = NearestNeighbors(n_neighbors=knn, radius=1.0, algorithm='auto', leaf_size=30, metric='jaccard', p=2, metric_params=None, n_jobs=None)\n",
    "knn_search.fit(np.array(drfps))\n",
    "\n",
    "edge_list = []\n",
    "\n",
    "for i in tqdm(range(len(drfps))):\n",
    "    dists, idxs = knn_search.kneighbors(drfps[i].reshape(1, -1))\n",
    "    for j in range(knn):\n",
    "        edge_list.append([i, idxs[0, j], dists[0, j]])"
   ]
  },
  {
   "cell_type": "code",
   "execution_count": null,
   "metadata": {},
   "outputs": [],
   "source": [
    "cfg = tm.LayoutConfiguration()\n",
    "\n",
    "cfg.node_size = 1 / 30\n",
    "cfg.mmm_repeats = 2\n",
    "cfg.sl_extra_scaling_steps = 5\n",
    "cfg.k = 20\n",
    "cfg.sl_scaling_type = tm.RelativeToAvgLength\n",
    "\n",
    "x_, y_, s, t, gp = tm.layout_from_edge_list(len(drfps), edge_list, cfg)\n",
    "tm_layout_drfp = {'x': list(x_), 'y': list(y_), 's': list(s), 't': list(t)}"
   ]
  },
  {
   "cell_type": "markdown",
   "metadata": {},
   "source": [
    "Prepare final dataframe for TMAP"
   ]
  },
  {
   "cell_type": "code",
   "execution_count": null,
   "metadata": {},
   "outputs": [],
   "source": [
    "df_tmap = pd.DataFrame(list(zip(pairwise_label, pairwise_activity, reaction_smiles, pairwise_mw, pairwise_hac, pairwise_fcsp3, diff_activity, diff_activity_log50)), \n",
    "                                columns=['Label', 'ActLabel', 'ReactionSMILES', 'uMW', 'uHAC', 'uFCsp3', 'dIC50', 'dlog(IC50)'])"
   ]
  },
  {
   "cell_type": "code",
   "execution_count": null,
   "metadata": {},
   "outputs": [],
   "source": [
    "labels = []\n",
    "\n",
    "for i, row in df_tmap.iterrows():\n",
    "    labels.append(\n",
    "            row[\"ReactionSMILES\"]\n",
    "            + \"__\"\n",
    "            + f'{row[\"ReactionSMILES\"]}'\n",
    "            + \"__\"\n",
    "            + f'Label: {row[\"Label\"]}'\n",
    "            + \"__\"\n",
    "            + f'Activities: {row[\"ActLabel\"]}'\n",
    "            + \"__\"\n",
    "            + f'dlog(IC50): {row[\"dlog(IC50)\"]}'\n",
    "        )"
   ]
  },
  {
   "cell_type": "code",
   "execution_count": null,
   "metadata": {},
   "outputs": [],
   "source": [
    "f = Faerun(\n",
    "    view=\"front\", \n",
    "    coords=False,\n",
    "    title=\"\",\n",
    "    clear_color='#FFFFFF',\n",
    ")\n",
    "\n",
    "f.add_scatter(\n",
    "    \"DRFP_TMAP\",\n",
    "    {\n",
    "        \"x\": tm.VectorFloat(tm_layout_drfp['x']),\n",
    "        \"y\": tm.VectorFloat(tm_layout_drfp['y'] ),\n",
    "        \"c\": [\n",
    "            df_tmap.uMW.values.tolist(),\n",
    "            df_tmap.uHAC.values.tolist(), \n",
    "            df_tmap.uFCsp3.values.tolist(),\n",
    "            df_tmap.dIC50.values.tolist(),\n",
    "            df_tmap['dlog(IC50)'].values.tolist()\n",
    "            ],\n",
    "        \"labels\": labels,\n",
    "    },\n",
    "    shader=\"sphere\",\n",
    "    point_scale=2,\n",
    "    max_point_size=20,\n",
    "    legend_labels=[None, None, None, None, None],\n",
    "    categorical=[False, False, False, False, False],\n",
    "    colormap=['rainbow', 'rainbow', 'rainbow', 'rainbow', 'rainbow'],\n",
    "    series_title=['uMW', 'uHAC', 'uFCsp3', 'dIC50', 'dlog(IC50)'],\n",
    "    has_legend=True,\n",
    ")\n",
    "f.add_tree(\"DRFP_TMAP_tree\", {\"from\": tm.VectorUint(tm_layout_drfp['s']), \"to\": tm.VectorUint(tm_layout_drfp['t'])}, point_helper=\"DRFP_TMAP\")\n",
    "f.plot('plots/Erb2_DRFP_TMAP', template='reaction_smiles')"
   ]
  },
  {
   "cell_type": "code",
   "execution_count": null,
   "metadata": {},
   "outputs": [],
   "source": []
  },
  {
   "cell_type": "code",
   "execution_count": null,
   "metadata": {},
   "outputs": [],
   "source": []
  },
  {
   "cell_type": "code",
   "execution_count": null,
   "metadata": {},
   "outputs": [],
   "source": []
  },
  {
   "cell_type": "markdown",
   "metadata": {},
   "source": [
    "Define function for merged MinHashed fingerprints"
   ]
  },
  {
   "cell_type": "code",
   "execution_count": null,
   "metadata": {},
   "outputs": [],
   "source": [
    "def MergeMAP4(map4_list):\n",
    "\n",
    "    map4_matrix = []\n",
    "    for i in range(len(map4_list)):\n",
    "        map4_row = []\n",
    "        for j in range(len(map4_list)):\n",
    "            map4_row.append(np.minimum(map4_list[i], map4_list[j]))\n",
    "        map4_matrix.append(map4_row)\n",
    "    return map4_matrix"
   ]
  },
  {
   "cell_type": "markdown",
   "metadata": {},
   "source": [
    "Calculate merged MAP4 for all molecular pairs"
   ]
  },
  {
   "cell_type": "code",
   "execution_count": null,
   "metadata": {},
   "outputs": [],
   "source": [
    "pairwise_map4 = pd.DataFrame(MergeMAP4(df.MAP4.values.tolist())).to_numpy().flatten()"
   ]
  },
  {
   "cell_type": "markdown",
   "metadata": {},
   "source": [
    "TMAP"
   ]
  },
  {
   "cell_type": "markdown",
   "metadata": {},
   "source": [
    "Layout"
   ]
  },
  {
   "cell_type": "code",
   "execution_count": null,
   "metadata": {},
   "outputs": [],
   "source": [
    "lf = tm.LSHForest(1024, 64)\n",
    "\n",
    "merged_map4 = np.array(df_tmap['MAP4'])\n",
    "fps = []\n",
    "\n",
    "for i in merged_map4:\n",
    "    vec = tm.VectorUint(i)\n",
    "    fps.append(vec)\n",
    "\n",
    "lf.batch_add(fps)\n",
    "lf.index()\n",
    "\n",
    "cfg = tm.LayoutConfiguration() #configuration parameters for tmap layout\n",
    "cfg.node_size = 1 / 30 #size of nodes which affects the magnitude of their repelling force. Decreasing this values generally resolves overlaps in a very crowded tree\n",
    "cfg.mmm_repeats = 2 #number of repeats of the per-level layout algorithm\n",
    "cfg.sl_extra_scaling_steps = 5 #sets the number of repeats of the scaling\n",
    "cfg.k = 45 #number of nearest neighbours used to create the k-nearest neighbour graph\n",
    "cfg.sl_scaling_type = tm.RelativeToAvgLength #Defines the relative scale of the graph\n",
    "x, y, s, t, _ = tm.layout_from_lsh_forest(lf, cfg)"
   ]
  }
 ],
 "metadata": {
  "interpreter": {
   "hash": "f62e7dc20cab4d86f42a0a774230773a0aeef69cb4166b75293e7b1d1524fa4c"
  },
  "kernelspec": {
   "display_name": "Python 3.7.13 ('mxfp')",
   "language": "python",
   "name": "python3"
  },
  "language_info": {
   "codemirror_mode": {
    "name": "ipython",
    "version": 3
   },
   "file_extension": ".py",
   "mimetype": "text/x-python",
   "name": "python",
   "nbconvert_exporter": "python",
   "pygments_lexer": "ipython3",
   "version": "3.7.13"
  },
  "orig_nbformat": 4
 },
 "nbformat": 4,
 "nbformat_minor": 2
}
