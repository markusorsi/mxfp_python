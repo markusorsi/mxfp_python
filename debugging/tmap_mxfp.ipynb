{
 "cells": [
  {
   "cell_type": "code",
   "execution_count": 1,
   "metadata": {},
   "outputs": [
    {
     "name": "stdout",
     "output_type": "stream",
     "text": [
      "INFO: Pandarallel will run on 16 workers.\n",
      "INFO: Pandarallel will use Memory file system to transfer data between the main process and workers.\n"
     ]
    }
   ],
   "source": [
    "import numpy as np\n",
    "import pandas as pd\n",
    "from pandarallel import pandarallel\n",
    "import random\n",
    "\n",
    "from rdkit import Chem\n",
    "from rdkit.Chem import rdMolDescriptors\n",
    "\n",
    "from mxfp import MXFPCalculator\n",
    "import tmap as tm\n",
    "from faerun import Faerun\n",
    "\n",
    "pandarallel.initialize(progress_bar=True)\n",
    "random.seed(42)\n"
   ]
  },
  {
   "cell_type": "code",
   "execution_count": 2,
   "metadata": {},
   "outputs": [],
   "source": [
    "df = pd.read_csv('ChEMBL_short24.1.mxfp', header=None, sep='\\s+|;', engine='python')\n",
    "df[226] = df.iloc[:, 2:225].values.tolist()\n",
    "df = df[df.columns[[0, 1, 226]]]\n",
    "df.columns = ['SMILES', 'Name', 'MXFP_java']\n",
    "\n",
    "df = df.head(1000)"
   ]
  },
  {
   "cell_type": "code",
   "execution_count": 3,
   "metadata": {},
   "outputs": [
    {
     "data": {
      "image/png": "[encoded data removed]",
      "text/plain": [
       "<rdkit.Chem.rdchem.Mol at 0x7f7950d60260>"
      ]
     },
     "execution_count": 3,
     "metadata": {},
     "output_type": "execute_result"
    }
   ],
   "source": [
    "MXFP = MXFPCalculator()\n",
    "\n",
    "testsmiles = df['SMILES'].iloc[11]\n",
    "testmol = Chem.MolFromSmiles(testsmiles)\n",
    "\n",
    "testmol"
   ]
  },
  {
   "cell_type": "code",
   "execution_count": 4,
   "metadata": {},
   "outputs": [],
   "source": [
    "testpython = []\n",
    "\n",
    "test_mxfp_python = MXFP.calc_mxfp(testmol)\n",
    "testpython.append(test_mxfp_python)\n",
    "testpython = [i for sublist in testpython for i in sublist]\n",
    "testpython = np.array(testpython)\n",
    "\n",
    "testjava = df['MXFP_java'].iloc[11]\n",
    "testjava = np.array(testjava)\n",
    "\n",
    "testpython_pd = pd.DataFrame(testpython)\n",
    "testjava_pd = pd.DataFrame(testjava)\n",
    "\n",
    "testlist = pd.concat([testpython_pd, testjava_pd], ignore_index=True, axis=1, join='inner')\n",
    "testlist.to_csv('testlist.csv', sep='\\t', index=None, header=None)"
   ]
  },
  {
   "cell_type": "code",
   "execution_count": null,
   "metadata": {},
   "outputs": [],
   "source": [
    "#df = df.drop(df[df.SMILES.str.contains(r'[%]')].index)\n",
    "\n",
    "#mollist = []\n",
    "\n",
    "#for mol in df.SMILES:\n",
    "    #moltype = Chem.MolFromSmiles(mol)\n",
    "    #if moltype == None: continue\n",
    "    #elif moltype != None:\n",
    "        #mollist.append([mol, moltype])\n",
    "\n",
    "#datalist = pd.DataFrame(mollist, columns=['SMILES', 'mol'])\n",
    "\n",
    "#print(f'Number of molecules: {len(mollist)}')"
   ]
  },
  {
   "cell_type": "code",
   "execution_count": null,
   "metadata": {},
   "outputs": [],
   "source": [
    "MXFP = MXFPCalculator()\n",
    "\n",
    "def calc_mxfp(smiles):\n",
    "    mol = Chem.MolFromSmiles(smiles)\n",
    "    mxfp = MXFP.get_mxfp(mol)\n",
    "    return np.array(mxfp)"
   ]
  },
  {
   "cell_type": "code",
   "execution_count": null,
   "metadata": {},
   "outputs": [],
   "source": [
    "df[\"MXFP_python\"] = df.SMILES.parallel_map(calc_mxfp)\n",
    "mxfp_python = df.MXFP_python.tolist()"
   ]
  },
  {
   "cell_type": "code",
   "execution_count": null,
   "metadata": {},
   "outputs": [],
   "source": [
    "mweight = [] \n",
    "\n",
    "for smiles in df['SMILES']:\n",
    "    mol = Chem.MolFromSmiles(smiles)\n",
    "    weigh = rdMolDescriptors.CalcExactMolWt(mol)\n",
    "    mweight.append(weigh)\n"
   ]
  },
  {
   "cell_type": "code",
   "execution_count": null,
   "metadata": {},
   "outputs": [],
   "source": [
    "lf = tm.LSHForest(1024, 64)\n",
    "\n",
    "mxfp_java_list = df.MXFP_java.to_list()\n",
    "mxfp_java = []\n",
    "\n",
    "for i in range(len(mxfp_java_list)):\n",
    "    x = np.asarray(mxfp_java_list[i])\n",
    "    mxfp_java.append(x)"
   ]
  },
  {
   "cell_type": "code",
   "execution_count": null,
   "metadata": {},
   "outputs": [],
   "source": [
    "fps = []\n",
    "\n",
    "for i in mxfp_java:\n",
    "    vec = tm.VectorUint(i)\n",
    "    fps.append(vec)\n"
   ]
  },
  {
   "cell_type": "code",
   "execution_count": null,
   "metadata": {},
   "outputs": [],
   "source": [
    "lf.batch_add(fps)\n",
    "lf.index()"
   ]
  },
  {
   "cell_type": "code",
   "execution_count": null,
   "metadata": {},
   "outputs": [],
   "source": [
    "cfg = tm.LayoutConfiguration()\n",
    "cfg.node_size = 1 / 35\n",
    "cfg.mmm_repeats = 2\n",
    "cfg.sl_extra_scaling_steps = 10\n",
    "cfg.k = 20\n",
    "cfg.sl_scaling_type = tm.RelativeToAvgLength\n",
    "x, y, s, t, _ = tm.layout_from_lsh_forest(lf, cfg)"
   ]
  },
  {
   "cell_type": "code",
   "execution_count": null,
   "metadata": {},
   "outputs": [],
   "source": [
    "f = Faerun(view=\"front\", coords=False)\n",
    "f.add_scatter(\n",
    "    \"mxfp\",\n",
    "    {\n",
    "        \"x\": x,\n",
    "        \"y\": y,\n",
    "        \"c\": [mweight],\n",
    "            \"labels\": df[\"SMILES\"],\n",
    "    },\n",
    "    shader=\"smoothCircle\",\n",
    "    point_scale=2.0,\n",
    "    max_point_size=20,\n",
    "    legend_labels=[],\n",
    "    categorical=[False],\n",
    "    colormap=['rainbow'],\n",
    "    series_title=['MW'],\n",
    "    has_legend=True,\n",
    ")\n",
    "f.add_tree(\"mxfp_tree\", {\"from\": s, \"to\": t}, point_helper=\"mxfp\")\n",
    "f.plot(template=\"smiles\")"
   ]
  },
  {
   "cell_type": "code",
   "execution_count": null,
   "metadata": {},
   "outputs": [],
   "source": []
  },
  {
   "cell_type": "code",
   "execution_count": null,
   "metadata": {},
   "outputs": [],
   "source": []
  }
 ],
 "metadata": {
  "interpreter": {
   "hash": "0b76d23812b8746a8a30a30e3f478468a093c664086aa8824c8e4975dbbe7482"
  },
  "kernelspec": {
   "display_name": "Python 3.6.13 64-bit ('mxfp': conda)",
   "name": "python3"
  },
  "language_info": {
   "codemirror_mode": {
    "name": "ipython",
    "version": 3
   },
   "file_extension": ".py",
   "mimetype": "text/x-python",
   "name": "python",
   "nbconvert_exporter": "python",
   "pygments_lexer": "ipython3",
   "version": "3.6.13"
  }
 },
 "nbformat": 4,
 "nbformat_minor": 2
}
